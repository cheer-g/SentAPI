{
  "nbformat": 4,
  "nbformat_minor": 0,
  "metadata": {
    "colab": {
      "name": "Malyalam.ipynb",
      "provenance": []
    },
    "kernelspec": {
      "name": "python3",
      "display_name": "Python 3"
    }
  },
  "cells": [
    {
      "cell_type": "code",
      "metadata": {
        "id": "_K49JkLKKJio",
        "colab_type": "code",
        "outputId": "b3d9906d-5ac6-4bb8-b0bc-db5f42c4c73f",
        "colab": {
          "base_uri": "https://localhost:8080/",
          "height": 221
        }
      },
      "source": [
        "# Malayalam Tokenizer\n",
        "import nltk\n",
        "nltk.download('punkt')\n",
        "from nltk.tokenize import sent_tokenize,word_tokenize\n",
        "\n",
        "\n",
        "mal_text=\"ഗവർണറുടെ നയപ്രഖ്യാപന പ്രസംഗം ആട് അങ്ങാടിയിൽ കയറിയതുപോലെ ആയിരുന്നെന്നും കണ്ട ഇലയൊക്കെ കടിച്ചെന്നും\"\n",
        "\n",
        "#---To print whole input\n",
        "#print(sent_tokenize(mal_text))\n",
        "\n",
        "#---To print as each words seperated by commas\n",
        "#print(word_tokenize(mal_text))\n",
        "\n",
        "#---To print each words in new line\n",
        "for i in word_tokenize(mal_text):\n",
        "    print(i)"
      ],
      "execution_count": 0,
      "outputs": [
        {
          "output_type": "stream",
          "text": [
            "[nltk_data] Downloading package punkt to /root/nltk_data...\n",
            "[nltk_data]   Unzipping tokenizers/punkt.zip.\n",
            "ഗവർണറുടെ\n",
            "നയപ്രഖ്യാപന\n",
            "പ്രസംഗം\n",
            "ആട്\n",
            "അങ്ങാടിയിൽ\n",
            "കയറിയതുപോലെ\n",
            "ആയിരുന്നെന്നും\n",
            "കണ്ട\n",
            "ഇലയൊക്കെ\n",
            "കടിച്ചെന്നും\n"
          ],
          "name": "stdout"
        }
      ]
    },
    {
      "cell_type": "code",
      "metadata": {
        "id": "TwvRQWqrK2Hx",
        "colab_type": "code",
        "outputId": "59f5d872-a760-46af-98c9-b0411b6e1737",
        "colab": {
          "base_uri": "https://localhost:8080/",
          "height": 68
        }
      },
      "source": [
        "#---Stop words removal\n",
        "import nltk\n",
        "nltk.download('stopwords')\n",
        "from nltk.corpus import stopwords\n",
        "\n",
        "mal_text=\"ഗവർണറുടെ നയപ്രഖ്യാപന ഏത് പ്രസംഗം ആട് അങ്ങാടിയിൽ വേറെ കയറിയതുപോലെ ആയിരുന്നെന്നും കണ്ട ഇലയൊക്കെ കടിച്ചെന്നും\"\n",
        "\n",
        "#---tokenize\n",
        "mal_words=word_tokenize(mal_text)\n",
        "mal_stop_words=[\"ഏത്\",\"എന്തിന്റെ\",\"ഇത്ര\",\"ഏറെ\",\"ഇതേ\",\"എന്ന\",\"വേറെ\",\"മതി\",\"എല്ലാ\",\"നിങ്ങളെ\",\"വളരെ\",\"എവിടെ\",\"എപ്പോൾ\",\"ഇന്ന്\",\"ഉള്ള\",\"ഇന്ന്\",\"മറ്റു\",\"ഈ\",\"ഇത്\",\"പോലെ\",\"തന്റെ\",\"വരെ\",\"മാത്രം\",\"എന്നാൽ\",\"മുമ്പ്\",\"തന്റെ\",\"ഇനി\",\"എങ്കിൽ\",\"അല്ലെങ്കിൽ\",\"കുറിച്ചു\",\"പിന്നെ\",\"എന്നത്\",\"അന്ന്\",\"എന്ത്\"]\n",
        "\n",
        "#---Removing stop words\n",
        "filtered_mal_sentence=[w for w in mal_words if not w in mal_stop_words]\n",
        "print(filtered_mal_sentence)\n"
      ],
      "execution_count": 0,
      "outputs": [
        {
          "output_type": "stream",
          "text": [
            "[nltk_data] Downloading package stopwords to /root/nltk_data...\n",
            "[nltk_data]   Unzipping corpora/stopwords.zip.\n",
            "['ഗവർണറുടെ', 'നയപ്രഖ്യാപന', 'പ്രസംഗം', 'ആട്', 'അങ്ങാടിയിൽ', 'കയറിയതുപോലെ', 'ആയിരുന്നെന്നും', 'കണ്ട', 'ഇലയൊക്കെ', 'കടിച്ചെന്നും']\n"
          ],
          "name": "stdout"
        }
      ]
    },
    {
      "cell_type": "code",
      "metadata": {
        "id": "vGlSXKTONrlC",
        "colab_type": "code",
        "outputId": "2ea45ded-77e1-42eb-b70f-6e677617dd6e",
        "colab": {
          "base_uri": "https://localhost:8080/",
          "height": 275
        }
      },
      "source": [
        "pip install mlmorph"
      ],
      "execution_count": 0,
      "outputs": [
        {
          "output_type": "stream",
          "text": [
            "Collecting mlmorph\n",
            "\u001b[?25l  Downloading https://files.pythonhosted.org/packages/52/b5/a8d0dea450f7498b3c6dbe3c4d7a9f91e745c69ae0640f76b0e34df81785/mlmorph-1.1.0.tar.gz (5.4MB)\n",
            "\u001b[K     |████████████████████████████████| 5.4MB 2.8MB/s \n",
            "\u001b[?25hRequirement already satisfied: regex in /usr/local/lib/python3.6/dist-packages (from mlmorph) (2019.12.20)\n",
            "Collecting hfst\n",
            "\u001b[?25l  Downloading https://files.pythonhosted.org/packages/85/4e/c3c2efabd96de88f0e29f5f5a7a5e79b3affbededc87889f969cb8e2e4c3/hfst-3.15.0.0b0-cp36-cp36m-manylinux1_x86_64.whl (26.9MB)\n",
            "\u001b[K     |████████████████████████████████| 26.9MB 9.8MB/s \n",
            "\u001b[?25hBuilding wheels for collected packages: mlmorph\n",
            "  Building wheel for mlmorph (setup.py) ... \u001b[?25l\u001b[?25hdone\n",
            "  Created wheel for mlmorph: filename=mlmorph-1.1.0-cp36-none-any.whl size=5486882 sha256=a7f663fdbf01adc95281099683f342c2464b518da61b44f1b9c4524c36119ea2\n",
            "  Stored in directory: /root/.cache/pip/wheels/66/2b/d2/5053e524be05baf9841ec0793fa22a7ecb13633b2b8b618e8d\n",
            "Successfully built mlmorph\n",
            "Installing collected packages: hfst, mlmorph\n",
            "Successfully installed hfst-3.15.0.0b0 mlmorph-1.1.0\n"
          ],
          "name": "stdout"
        }
      ]
    },
    {
      "cell_type": "code",
      "metadata": {
        "id": "v3bJS2mwNWW0",
        "colab_type": "code",
        "outputId": "3d87275b-32f6-4b0e-ac50-2067c6b60c1b",
        "colab": {
          "base_uri": "https://localhost:8080/",
          "height": 309
        }
      },
      "source": [
        "#Stemmer\n",
        "import nltk\n",
        "from mlmorph import Analyser\n",
        "from nltk.tokenize import word_tokenize\n",
        "nltk.download('punkt')\n",
        "analyser = Analyser()\n",
        "text=\"അങ്ങാടിയിൽ ഗവർണറുടെ നയപ്രഖ്യാപന ഏത് പ്രസംഗം ആട് അങ്ങാടിയിൽ വേറെ കയറിയതുപോലെ ആയിരുന്നെന്നും കണ്ട ഇലയൊക്കെ കടിച്ചെന്നും\"\n",
        "\n",
        "#Tokenizing\n",
        "tok=word_tokenize(text)\n",
        "\n",
        "print(tok)\n",
        "\n",
        "for item in tok:\n",
        "  t=analyser.analyse(item)\n",
        "  print(t)"
      ],
      "execution_count": 0,
      "outputs": [
        {
          "output_type": "stream",
          "text": [
            "[nltk_data] Downloading package punkt to /root/nltk_data...\n",
            "[nltk_data]   Package punkt is already up-to-date!\n",
            "['അങ്ങാടിയിൽ', 'ഗവർണറുടെ', 'നയപ്രഖ്യാപന', 'ഏത്', 'പ്രസംഗം', 'ആട്', 'അങ്ങാടിയിൽ', 'വേറെ', 'കയറിയതുപോലെ', 'ആയിരുന്നെന്നും', 'കണ്ട', 'ഇലയൊക്കെ', 'കടിച്ചെന്നും']\n",
            "[('അങ്ങാടി<n><locative>', 178), ('അങ്ങാടി<np><locative>', 187), ('അ<dem>അങ്ങാടി<n><locative>', 294), ('അ<dem>അങ്ങാടി<np><locative>', 303), ('അങ്ങ്<n><adj>ആടി<n><locative>', 320), ('അ<dem>അങ്ങ്<n><adj>ആടി<n><locative>', 436)]\n",
            "[('ഗവർണർ<eng><genitive>', 173)]\n",
            "[('നയം<n><adj>പ്രഖ്യാപനം<sanskrit><adj>', 346)]\n",
            "[('ഏത്<qn>', 117)]\n",
            "[('പ്രസംഗം<sanskrit>', 143)]\n",
            "[('ആട്<n>', 117)]\n",
            "[('അങ്ങാടി<n><locative>', 178), ('അങ്ങാടി<np><locative>', 187), ('അ<dem>അങ്ങാടി<n><locative>', 294), ('അ<dem>അങ്ങാടി<np><locative>', 303), ('അങ്ങ്<n><adj>ആടി<n><locative>', 320), ('അ<dem>അങ്ങ്<n><adj>ആടി<n><locative>', 436)]\n",
            "[('വേറെ<cnj>', 122), ('വേർ<n>എ<indeclinable>', 260), ('വേറ്<n>എ<indeclinable>', 262)]\n",
            "[('കയറുക<v><adv-clause-rp-past><n><deriv>പോലെ<cnj>', 420), ('കയറുക<v><adv-clause-rp-past><n><deriv>പോലെ<cnj>', 420), ('കയറുക<v><adv-clause-rp-past><n><deriv>പോലെ<postp>', 426), ('കയറുക<v><adv-clause-rp-past><n><deriv>പോലെ<postp>', 426)]\n",
            "[('ആയിരുന്നു<cnj>എന്നും<cnj>', 258), ('ആയിരുന്നു<cnj>എന്നും<postp>', 264)]\n",
            "[('കണ്ട<n>', 119), ('കണ്ടം<n><adj>', 158), ('കാണുക<v><adv-clause-rp-past>', 197), ('കാണുക<v><past><adv-clause-rp-past>', 244)]\n",
            "[('ഇല<n>ഒക്കെ<cnj>', 239), ('ഇല<n>ഒക്കെ<postp>', 245), ('ഇല<n><adj>ഒക്കെ<n>', 267), ('ഇല<n><coordinative>ഒക്കെ<n>', 267), ('ഇ<dem>അല<n>ഒക്കെ<cnj>', 355), ('ഇ<dem>അല<n>ഒക്കെ<postp>', 361), ('ഇ<dem>അല<n><adj>ഒക്കെ<n>', 383), ('ഇ<dem>അല<n><coordinative>ഒക്കെ<n>', 383), ('ഇ<dem>അലം<n><adj>ഒക്കെ<n>', 387), ('ഇ<dem>അലം<n><adj>ഒക്കെ<n>', 387), ('ഇല<n><adj>ഒക്ക്<n>എ<indeclinable>', 410), ('ഇല<n><coordinative>ഒക്ക്<n>എ<indeclinable>', 410), ('ഇ<n><n-v-compound>അലയുക<v><imperative-mood>ഒക്കെ<cnj>', 478), ('ഇ<dem><n-v-compound>അലയുക<v><imperative-mood>ഒക്കെ<cnj>', 481), ('ഇ<dem>അല<n><adj>ഒക്ക്<n>എ<indeclinable>', 526), ('ഇ<dem>അല<n><coordinative>ഒക്ക്<n>എ<indeclinable>', 526), ('ഇ<dem>അലം<n><adj>ഒക്ക്<n>എ<indeclinable>', 530), ('ഇ<dem>അലം<n><adj>ഒക്ക്<n>എ<indeclinable>', 530)]\n",
            "[('കടിക്കുക<v><cvb-adv-part-past>എന്നും<cnj>', 296), ('കടിയ്ക്കുക<v><cvb-adv-part-past>എന്നും<cnj>', 304), ('കടിക്കുക<v><cvb-adv-part-past>എന്നുക<v><future>', 335), ('കടിയ്ക്കുക<v><cvb-adv-part-past>എന്നുക<v><future>', 343), ('കടിയുക<v><causative-voice><cvb-adv-part-past>എന്നും<cnj>', 370), ('കടിയുക<v><causative-voice><cvb-adv-part-past>എന്നുക<v><future>', 409), ('കടിക്കുക<v><cvb-adv-part-past>എന്ന്<cnj>ഉം<cnj>', 412), ('കടിക്കുക<v><cvb-adv-part-past>എന്നു്<cnj>ഉം<cnj>', 414), ('കടിക്കുക<v><cvb-adv-part-past>എന്നുക<v><causative-voice><future>', 417), ('കടിയ്ക്കുക<v><cvb-adv-part-past>എന്ന്<cnj>ഉം<cnj>', 420), ('കടിയ്ക്കുക<v><cvb-adv-part-past>എന്നു്<cnj>ഉം<cnj>', 422), ('കടിയ്ക്കുക<v><cvb-adv-part-past>എന്നുക<v><causative-voice><future>', 425), ('കടിയുക<v><causative-voice><cvb-adv-part-past>എന്ന്<cnj>ഉം<cnj>', 486), ('കടിയുക<v><causative-voice><cvb-adv-part-past>എന്നു്<cnj>ഉം<cnj>', 488), ('കടിയുക<v><causative-voice><cvb-adv-part-past>എന്നുക<v><causative-voice><future>', 491)]\n"
          ],
          "name": "stdout"
        }
      ]
    }
  ]
}